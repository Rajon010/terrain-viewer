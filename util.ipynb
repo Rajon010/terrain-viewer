{
 "cells": [
  {
   "cell_type": "code",
   "execution_count": 1,
   "id": "3bc452db",
   "metadata": {},
   "outputs": [
    {
     "name": "stdout",
     "output_type": "stream",
     "text": [
      "bg:ansiyellow\n"
     ]
    }
   ],
   "source": [
    "import pickle, os\n",
    "from itertools import islice\n",
    "import numpy as np, scipy as sp, pandas as pd\n",
    "pd.set_option('display.max_rows', 100)\n",
    "pd.set_option('display.max_columns', 40)\n",
    "import matplotlib as mpl\n",
    "import matplotlib.pyplot as plt\n",
    "mpl.rcdefaults()\n",
    "if hasattr(__builtins__, '__IPYTHON__'):\n",
    "    get_ipython().run_line_magic('matplotlib', 'inline')\n",
    "    get_ipython().run_line_magic('config', 'InlineBackend.figure_format = \"jpg\"')\n",
    "    # https://stackoverflow.com/questions/70766518/how-to-change-ipython-error-highlighting-color\n",
    "    from IPython.core import ultratb\n",
    "    print(ultratb.VerboseTB._tb_highlight)\n",
    "    ultratb.VerboseTB._tb_highlight = \"bg:#006400\""
   ]
  },
  {
   "cell_type": "code",
   "execution_count": 2,
   "id": "33d6fcb3",
   "metadata": {},
   "outputs": [
    {
     "data": {
      "text/plain": [
       "(248169.98121661693, 2652130.8966781525)"
      ]
     },
     "execution_count": 2,
     "metadata": {},
     "output_type": "execute_result"
    }
   ],
   "source": [
    "from math import tan, sin, cos, radians\n",
    "def latlon_2_twd97(lat, lon):\n",
    "    # Modify from https://blog.ez2learn.com/2009/08/15/lat-lon-to-twd97/\n",
    "    a = 6378137.0\n",
    "    b = 6356752.314245\n",
    "    long0 = radians(121)\n",
    "    k0 = 0.9999\n",
    "    dx = 250000\n",
    "    \n",
    "    lat, lon = radians(lat), radians(lon)\n",
    "\n",
    "    e = (1-b**2/a**2)**0.5\n",
    "    e2 = e**2/(1-e**2)\n",
    "    n = (a-b)/(a+b)\n",
    "    nu = a/(1-(e**2)*(sin(lat)**2))**0.5\n",
    "    p = lon-long0\n",
    "\n",
    "    A = a*(1 - n + (5/4.0)*(n**2 - n**3) + (81/64.0)*(n**4  - n**5))\n",
    "    B = (3*a*n/2.0)*(1 - n + (7/8.0)*(n**2 - n**3) + (55/64.0)*(n**4 - n**5))\n",
    "    C = (15*a*(n**2)/16.0)*(1 - n + (3/4.0)*(n**2 - n**3))\n",
    "    D = (35*a*(n**3)/48.0)*(1 - n + (11/16.0)*(n**2 - n**3))\n",
    "    E = (315*a*(n**4)/51.0)*(1 - n)\n",
    "\n",
    "    S = A*lat - B*sin(2*lat) + C*sin(4*lat) - D*sin(6*lat) + E*sin(8*lat)\n",
    "\n",
    "    K1 = S*k0\n",
    "    K2 = k0*nu*sin(2*lat)/4.0\n",
    "    K3 = (k0*nu*sin(lat)*(cos(lat)**3)/24.0) * \\\n",
    "        (5 - tan(lat)**2 + 9*e2*(cos(lat)**2) + 4*(e2**2)*(cos(lat)**4))\n",
    "\n",
    "    y = K1 + K2*(p**2) + K3*(p**4)\n",
    "\n",
    "    K4 = k0*nu*cos(lat)\n",
    "    K5 = (k0*nu*(cos(lat)**3)/6.0) * \\\n",
    "        (1 - tan(lat)**2 + e2*(cos(lat)**2))\n",
    "\n",
    "    x = K4*p + K5*(p**3) + dx\n",
    "    return x, y\n",
    "\n",
    "x20, y20 = latlon_2_twd97(23.9738833, 120.9820167) \n",
    "x20, y20 # 248170.787 2652129.936 https://www.sunriver.com.tw/grid_tm2.htm"
   ]
  },
  {
   "cell_type": "code",
   "execution_count": 3,
   "id": "ff00f9c5",
   "metadata": {},
   "outputs": [],
   "source": [
    "x20_min, x20_max, y20_min, y20_max = 239000, 351800, 2744000, 2801720\n",
    "x_min, x_max, y_min, y_max = 0, (x20_max - x20_min) // 20, 0, (y20_max - y20_min) // 20"
   ]
  },
  {
   "cell_type": "code",
   "execution_count": 4,
   "id": "f5d08f8f",
   "metadata": {},
   "outputs": [],
   "source": [
    "def x20_2_x(x20):\n",
    "    return (x20 - x20_min) // 20\n",
    "def y20_2_y(y20):\n",
    "    return (y20 - y20_min) // 20"
   ]
  }
 ],
 "metadata": {
  "kernelspec": {
   "display_name": "stargazer",
   "language": "python",
   "name": "stargazer"
  },
  "language_info": {
   "codemirror_mode": {
    "name": "ipython",
    "version": 3
   },
   "file_extension": ".py",
   "mimetype": "text/x-python",
   "name": "python",
   "nbconvert_exporter": "python",
   "pygments_lexer": "ipython3",
   "version": "3.11.3"
  }
 },
 "nbformat": 4,
 "nbformat_minor": 5
}
