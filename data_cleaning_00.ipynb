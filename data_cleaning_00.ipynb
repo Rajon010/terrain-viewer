{
 "cells": [
  {
   "cell_type": "code",
   "execution_count": 1,
   "metadata": {},
   "outputs": [
    {
     "name": "stdout",
     "output_type": "stream",
     "text": [
      "bg:ansiyellow\n"
     ]
    }
   ],
   "source": [
    "import pickle, os\n",
    "from itertools import islice\n",
    "import numpy as np, scipy as sp, pandas as pd\n",
    "pd.set_option('display.max_rows', 100)\n",
    "pd.set_option('display.max_columns', 40)\n",
    "import matplotlib as mpl\n",
    "import matplotlib.pyplot as plt\n",
    "mpl.rcdefaults()\n",
    "if hasattr(__builtins__, '__IPYTHON__'):\n",
    "    get_ipython().run_line_magic('matplotlib', 'inline')\n",
    "    get_ipython().run_line_magic('config', 'InlineBackend.figure_format = \"jpg\"')\n",
    "    get_ipython().run_line_magic('load_ext', 'autoreload')\n",
    "    get_ipython().run_line_magic('autoreload', '2')\n",
    "    # https://stackoverflow.com/questions/70766518/how-to-change-ipython-error-highlighting-color\n",
    "    from IPython.core import ultratb\n",
    "    print(ultratb.VerboseTB._tb_highlight)\n",
    "    ultratb.VerboseTB._tb_highlight = \"bg:#006400\""
   ]
  },
  {
   "cell_type": "code",
   "execution_count": 2,
   "metadata": {},
   "outputs": [
    {
     "name": "stdout",
     "output_type": "stream",
     "text": [
      "bg:#006400\n"
     ]
    }
   ],
   "source": [
    "%run util.ipynb"
   ]
  },
  {
   "cell_type": "code",
   "execution_count": 3,
   "metadata": {},
   "outputs": [],
   "source": [
    "# https://data.gov.tw/dataset/35430\n",
    "# https://bus194625.pixnet.net/blog/post/166678782\n",
    "# dns = [dn for dn in os.listdir('data_taiwan') if not dn.startswith('.')]\n",
    "dns = [\n",
    "    'taoyuan_city', 'taipei_city', 'new_taipei_city', \n",
    "    'yilan_county', 'keelung_city', 'hsinchu_county', 'hsinchu_city',\n",
    "]\n",
    "fnss = {dn: os.listdir(os.path.join('data_taiwan', dn)) for dn in dns}\n",
    "dfs = {\n",
    "    (dn, fn): pd.read_csv(os.path.join('data_taiwan', dn, fn), names=['x20', 'y20', 'z'], sep=' ')\n",
    "for dn, fns in fnss.items()\n",
    "    for fn in fns if fn.endswith('.grd')\n",
    "}"
   ]
  },
  {
   "cell_type": "code",
   "execution_count": 4,
   "metadata": {},
   "outputs": [
    {
     "data": {
      "text/plain": [
       "(25275350, 3)"
      ]
     },
     "execution_count": 4,
     "metadata": {},
     "output_type": "execute_result"
    }
   ],
   "source": [
    "df = pd.concat([v for k, v in dfs.items() if k[0] not in []])\n",
    "del dfs\n",
    "df.shape"
   ]
  },
  {
   "cell_type": "code",
   "execution_count": 5,
   "metadata": {},
   "outputs": [
    {
     "data": {
      "text/html": [
       "<div>\n",
       "<style scoped>\n",
       "    .dataframe tbody tr th:only-of-type {\n",
       "        vertical-align: middle;\n",
       "    }\n",
       "\n",
       "    .dataframe tbody tr th {\n",
       "        vertical-align: top;\n",
       "    }\n",
       "\n",
       "    .dataframe thead th {\n",
       "        text-align: right;\n",
       "    }\n",
       "</style>\n",
       "<table border=\"1\" class=\"dataframe\">\n",
       "  <thead>\n",
       "    <tr style=\"text-align: right;\">\n",
       "      <th></th>\n",
       "      <th>x20</th>\n",
       "      <th>y20</th>\n",
       "      <th>z</th>\n",
       "    </tr>\n",
       "  </thead>\n",
       "  <tbody>\n",
       "    <tr>\n",
       "      <th>0</th>\n",
       "      <td>255820</td>\n",
       "      <td>2757240</td>\n",
       "      <td>94.42</td>\n",
       "    </tr>\n",
       "    <tr>\n",
       "      <th>1</th>\n",
       "      <td>255840</td>\n",
       "      <td>2757240</td>\n",
       "      <td>94.91</td>\n",
       "    </tr>\n",
       "    <tr>\n",
       "      <th>2</th>\n",
       "      <td>255860</td>\n",
       "      <td>2757240</td>\n",
       "      <td>94.48</td>\n",
       "    </tr>\n",
       "    <tr>\n",
       "      <th>3</th>\n",
       "      <td>255880</td>\n",
       "      <td>2757240</td>\n",
       "      <td>95.21</td>\n",
       "    </tr>\n",
       "    <tr>\n",
       "      <th>4</th>\n",
       "      <td>255900</td>\n",
       "      <td>2757240</td>\n",
       "      <td>96.73</td>\n",
       "    </tr>\n",
       "    <tr>\n",
       "      <th>5</th>\n",
       "      <td>255920</td>\n",
       "      <td>2757240</td>\n",
       "      <td>96.91</td>\n",
       "    </tr>\n",
       "    <tr>\n",
       "      <th>6</th>\n",
       "      <td>255940</td>\n",
       "      <td>2757240</td>\n",
       "      <td>97.27</td>\n",
       "    </tr>\n",
       "    <tr>\n",
       "      <th>7</th>\n",
       "      <td>255960</td>\n",
       "      <td>2757240</td>\n",
       "      <td>97.52</td>\n",
       "    </tr>\n",
       "    <tr>\n",
       "      <th>8</th>\n",
       "      <td>255980</td>\n",
       "      <td>2757240</td>\n",
       "      <td>97.39</td>\n",
       "    </tr>\n",
       "    <tr>\n",
       "      <th>9</th>\n",
       "      <td>256000</td>\n",
       "      <td>2757240</td>\n",
       "      <td>97.39</td>\n",
       "    </tr>\n",
       "    <tr>\n",
       "      <th>10</th>\n",
       "      <td>256020</td>\n",
       "      <td>2757240</td>\n",
       "      <td>97.70</td>\n",
       "    </tr>\n",
       "    <tr>\n",
       "      <th>11</th>\n",
       "      <td>256040</td>\n",
       "      <td>2757240</td>\n",
       "      <td>98.61</td>\n",
       "    </tr>\n",
       "    <tr>\n",
       "      <th>12</th>\n",
       "      <td>256060</td>\n",
       "      <td>2757240</td>\n",
       "      <td>98.91</td>\n",
       "    </tr>\n",
       "    <tr>\n",
       "      <th>13</th>\n",
       "      <td>256080</td>\n",
       "      <td>2757240</td>\n",
       "      <td>98.97</td>\n",
       "    </tr>\n",
       "    <tr>\n",
       "      <th>14</th>\n",
       "      <td>256100</td>\n",
       "      <td>2757240</td>\n",
       "      <td>99.09</td>\n",
       "    </tr>\n",
       "    <tr>\n",
       "      <th>15</th>\n",
       "      <td>256120</td>\n",
       "      <td>2757240</td>\n",
       "      <td>99.21</td>\n",
       "    </tr>\n",
       "    <tr>\n",
       "      <th>16</th>\n",
       "      <td>256140</td>\n",
       "      <td>2757240</td>\n",
       "      <td>99.58</td>\n",
       "    </tr>\n",
       "    <tr>\n",
       "      <th>17</th>\n",
       "      <td>256160</td>\n",
       "      <td>2757240</td>\n",
       "      <td>100.00</td>\n",
       "    </tr>\n",
       "    <tr>\n",
       "      <th>18</th>\n",
       "      <td>256180</td>\n",
       "      <td>2757240</td>\n",
       "      <td>100.12</td>\n",
       "    </tr>\n",
       "    <tr>\n",
       "      <th>19</th>\n",
       "      <td>256200</td>\n",
       "      <td>2757240</td>\n",
       "      <td>100.49</td>\n",
       "    </tr>\n",
       "  </tbody>\n",
       "</table>\n",
       "</div>"
      ],
      "text/plain": [
       "       x20      y20       z\n",
       "0   255820  2757240   94.42\n",
       "1   255840  2757240   94.91\n",
       "2   255860  2757240   94.48\n",
       "3   255880  2757240   95.21\n",
       "4   255900  2757240   96.73\n",
       "5   255920  2757240   96.91\n",
       "6   255940  2757240   97.27\n",
       "7   255960  2757240   97.52\n",
       "8   255980  2757240   97.39\n",
       "9   256000  2757240   97.39\n",
       "10  256020  2757240   97.70\n",
       "11  256040  2757240   98.61\n",
       "12  256060  2757240   98.91\n",
       "13  256080  2757240   98.97\n",
       "14  256100  2757240   99.09\n",
       "15  256120  2757240   99.21\n",
       "16  256140  2757240   99.58\n",
       "17  256160  2757240  100.00\n",
       "18  256180  2757240  100.12\n",
       "19  256200  2757240  100.49"
      ]
     },
     "execution_count": 5,
     "metadata": {},
     "output_type": "execute_result"
    }
   ],
   "source": [
    "df.head(20)"
   ]
  },
  {
   "cell_type": "code",
   "execution_count": 6,
   "metadata": {},
   "outputs": [
    {
     "data": {
      "text/html": [
       "<div>\n",
       "<style scoped>\n",
       "    .dataframe tbody tr th:only-of-type {\n",
       "        vertical-align: middle;\n",
       "    }\n",
       "\n",
       "    .dataframe tbody tr th {\n",
       "        vertical-align: top;\n",
       "    }\n",
       "\n",
       "    .dataframe thead th {\n",
       "        text-align: right;\n",
       "    }\n",
       "</style>\n",
       "<table border=\"1\" class=\"dataframe\">\n",
       "  <thead>\n",
       "    <tr style=\"text-align: right;\">\n",
       "      <th></th>\n",
       "      <th>x20</th>\n",
       "      <th>y20</th>\n",
       "      <th>z</th>\n",
       "    </tr>\n",
       "  </thead>\n",
       "  <tbody>\n",
       "    <tr>\n",
       "      <th>count</th>\n",
       "      <td>2.527535e+07</td>\n",
       "      <td>2.527535e+07</td>\n",
       "      <td>2.527535e+07</td>\n",
       "    </tr>\n",
       "    <tr>\n",
       "      <th>mean</th>\n",
       "      <td>2.967500e+05</td>\n",
       "      <td>2.744719e+06</td>\n",
       "      <td>5.721792e+02</td>\n",
       "    </tr>\n",
       "    <tr>\n",
       "      <th>std</th>\n",
       "      <td>2.557412e+04</td>\n",
       "      <td>2.581758e+04</td>\n",
       "      <td>6.581520e+02</td>\n",
       "    </tr>\n",
       "    <tr>\n",
       "      <th>min</th>\n",
       "      <td>2.356000e+05</td>\n",
       "      <td>2.688140e+06</td>\n",
       "      <td>-9.990000e+02</td>\n",
       "    </tr>\n",
       "    <tr>\n",
       "      <th>25%</th>\n",
       "      <td>2.783000e+05</td>\n",
       "      <td>2.724460e+06</td>\n",
       "      <td>7.642000e+01</td>\n",
       "    </tr>\n",
       "    <tr>\n",
       "      <th>50%</th>\n",
       "      <td>2.987000e+05</td>\n",
       "      <td>2.745800e+06</td>\n",
       "      <td>2.950000e+02</td>\n",
       "    </tr>\n",
       "    <tr>\n",
       "      <th>75%</th>\n",
       "      <td>3.168800e+05</td>\n",
       "      <td>2.765620e+06</td>\n",
       "      <td>8.872100e+02</td>\n",
       "    </tr>\n",
       "    <tr>\n",
       "      <th>max</th>\n",
       "      <td>3.518000e+05</td>\n",
       "      <td>2.801720e+06</td>\n",
       "      <td>3.739020e+03</td>\n",
       "    </tr>\n",
       "  </tbody>\n",
       "</table>\n",
       "</div>"
      ],
      "text/plain": [
       "                x20           y20             z\n",
       "count  2.527535e+07  2.527535e+07  2.527535e+07\n",
       "mean   2.967500e+05  2.744719e+06  5.721792e+02\n",
       "std    2.557412e+04  2.581758e+04  6.581520e+02\n",
       "min    2.356000e+05  2.688140e+06 -9.990000e+02\n",
       "25%    2.783000e+05  2.724460e+06  7.642000e+01\n",
       "50%    2.987000e+05  2.745800e+06  2.950000e+02\n",
       "75%    3.168800e+05  2.765620e+06  8.872100e+02\n",
       "max    3.518000e+05  2.801720e+06  3.739020e+03"
      ]
     },
     "execution_count": 6,
     "metadata": {},
     "output_type": "execute_result"
    }
   ],
   "source": [
    "df.describe()"
   ]
  },
  {
   "cell_type": "code",
   "execution_count": 7,
   "metadata": {},
   "outputs": [
    {
     "data": {
      "text/plain": [
       "-0.89       141\n",
       "-0.77       294\n",
       "-0.71       398\n",
       "-0.59       689\n",
       "-0.53       345\n",
       "-0.41      1278\n",
       "-0.29      1269\n",
       "-0.23      1564\n",
       "-0.10      8690\n",
       "-0.05         7\n",
       "-0.03        28\n",
       "-0.01     41407\n",
       " 0.00    793326\n",
       " 0.02    387529\n",
       " 0.04     25313\n",
       " 0.06       130\n",
       " 0.08      2025\n",
       " 0.09     13473\n",
       " 0.11       184\n",
       " 0.12         4\n",
       " 0.13      4375\n",
       " 0.14         6\n",
       " 0.15       209\n",
       " 0.18      4107\n",
       " 0.19         3\n",
       " 0.20      1590\n",
       " 0.22      4596\n",
       " 0.24       257\n",
       " 0.26         2\n",
       " 0.27      5167\n",
       " 0.29       285\n",
       " 0.31      5199\n",
       " 0.32      1598\n",
       " 0.33       332\n",
       " 0.36      5346\n",
       " 0.38      1681\n",
       " 0.40      5472\n",
       " 0.42       360\n",
       " 0.44         2\n",
       " 0.45      5231\n",
       " 0.47       353\n",
       " 0.49      5319\n",
       " 0.50      1543\n",
       " 0.51       400\n",
       " 0.54      5121\n",
       " 0.56       382\n",
       " 0.57         1\n",
       " 0.58      5314\n",
       " 0.60       387\n",
       " 0.62      1494\n",
       " 0.63      5173\n",
       " 0.65       406\n",
       " 0.67      5396\n",
       " 0.68      1118\n",
       " 0.69       388\n",
       " 0.70         1\n",
       " 0.72      5616\n",
       " 0.74       445\n",
       " 0.76      5213\n",
       " 0.78       436\n",
       " 0.81      6844\n",
       " 0.83       416\n",
       " 0.85      4968\n",
       " 0.87       401\n",
       " 0.90      5549\n",
       " 0.92       437\n",
       " 0.93      1365\n",
       " 0.94      5027\n",
       " 0.96       473\n",
       " 0.99      7062\n",
       "Name: z, dtype: int64"
      ]
     },
     "execution_count": 7,
     "metadata": {},
     "output_type": "execute_result"
    }
   ],
   "source": [
    "df['z'][df['z'].between(-1., 1.)].value_counts().sort_index()"
   ]
  },
  {
   "cell_type": "code",
   "execution_count": 8,
   "metadata": {},
   "outputs": [],
   "source": [
    "z_min = .03\n",
    "df.loc[df['z'] < .03, 'z'] = .03"
   ]
  },
  {
   "cell_type": "code",
   "execution_count": 9,
   "metadata": {},
   "outputs": [],
   "source": [
    "df['x'] = x20_2_x(df['x20'])\n",
    "df['y'] = y20_2_y(df['y20'])\n",
    "df.drop(['x20', 'y20'], axis='columns', inplace=True)"
   ]
  },
  {
   "cell_type": "code",
   "execution_count": 10,
   "metadata": {},
   "outputs": [],
   "source": [
    "df_truncated = df[df['x'].between(x_min, x_max, inclusive='left') & df['y'].between(y_min, y_max, inclusive='left')]\n",
    "del df"
   ]
  },
  {
   "cell_type": "code",
   "execution_count": 11,
   "metadata": {},
   "outputs": [],
   "source": [
    "mat = np.full((y_max, x_max), z_min, dtype=np.float64)\n",
    "mat[df_truncated['y'], df_truncated['x']] = df_truncated['z']\n",
    "del df_truncated"
   ]
  },
  {
   "cell_type": "code",
   "execution_count": 12,
   "metadata": {},
   "outputs": [],
   "source": [
    "# np.save('data_taiwan/dem.npy', mat)"
   ]
  },
  {
   "cell_type": "code",
   "execution_count": 13,
   "metadata": {},
   "outputs": [],
   "source": [
    "mat = np.load('data_taiwan/dem.npy')"
   ]
  },
  {
   "cell_type": "code",
   "execution_count": 14,
   "metadata": {},
   "outputs": [
    {
     "data": {
      "text/plain": [
       "130216320"
      ]
     },
     "execution_count": 14,
     "metadata": {},
     "output_type": "execute_result"
    }
   ],
   "source": [
    "mat.nbytes"
   ]
  },
  {
   "cell_type": "code",
   "execution_count": 15,
   "metadata": {},
   "outputs": [
    {
     "data": {
      "image/jpeg": "[encoded data removed]",
      "text/plain": [
       "<Figure size 938.046x480 with 2 Axes>"
      ]
     },
     "metadata": {},
     "output_type": "display_data"
    }
   ],
   "source": [
    "plt.matshow(mat, origin='lower', cmap='nipy_spectral');\n",
    "plt.gca().set_aspect('equal');\n",
    "plt.colorbar();"
   ]
  },
  {
   "cell_type": "code",
   "execution_count": null,
   "metadata": {},
   "outputs": [],
   "source": []
  }
 ],
 "metadata": {
  "kernelspec": {
   "display_name": "stargazer",
   "language": "python",
   "name": "stargazer"
  },
  "language_info": {
   "codemirror_mode": {
    "name": "ipython",
    "version": 3
   },
   "file_extension": ".py",
   "mimetype": "text/x-python",
   "name": "python",
   "nbconvert_exporter": "python",
   "pygments_lexer": "ipython3",
   "version": "3.11.3"
  }
 },
 "nbformat": 4,
 "nbformat_minor": 4
}
